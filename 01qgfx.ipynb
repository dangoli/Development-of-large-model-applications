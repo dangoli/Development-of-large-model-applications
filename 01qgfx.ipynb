{
 "cells": [
  {
   "cell_type": "code",
   "execution_count": 1,
   "id": "203cd99c-3353-4936-8c76-f31c1a2625a3",
   "metadata": {},
   "outputs": [
    {
     "name": "stdout",
     "output_type": "stream",
     "text": [
      "负向\n"
     ]
    }
   ],
   "source": [
    "import json\n",
    "import os\n",
    "import dashscope\n",
    "from dashscope.api_entities.dashscope_response import Role\n",
    "api_key = os.getenv(\"API_KEY\") # 从环境变量中获取\n",
    "dashscope.api_key = api_key\n",
    "\n",
    "# 封装模型响应函数\n",
    "def get_response(messages):\n",
    "    response = dashscope.Generation.call(\n",
    "        model='qwen-flash',\n",
    "        messages=messages,\n",
    "        result_format='message' # 将输出设置为message形式\n",
    "    )\n",
    "    return response\n",
    "\n",
    "review = '这款音效非常差劲！音质非常烂！'\n",
    "messages=[\n",
    "    {\"role\": \"system\", \"content\": \"你是一名舆情分析师，帮我判断产品口碑的正负向，回复请用一个词语：正向 或者 负向\"},\n",
    "    {\"role\": \"user\", \"content\": review}\n",
    "]\n",
    "\n",
    "response = get_response(messages)\n",
    "print(response.output.choices[0].message.content)"
   ]
  },
  {
   "cell_type": "code",
   "execution_count": null,
   "id": "4d1d0d0d-4c9d-41ba-a5b2-e4be9c898a12",
   "metadata": {},
   "outputs": [],
   "source": []
  }
 ],
 "metadata": {
  "kernelspec": {
   "display_name": "Python 3 (ipykernel)",
   "language": "python",
   "name": "python3"
  },
  "language_info": {
   "codemirror_mode": {
    "name": "ipython",
    "version": 3
   },
   "file_extension": ".py",
   "mimetype": "text/x-python",
   "name": "python",
   "nbconvert_exporter": "python",
   "pygments_lexer": "ipython3",
   "version": "3.10.11"
  }
 },
 "nbformat": 4,
 "nbformat_minor": 5
}
